{
 "metadata": {
  "name": "Sparse Matrices"
 }, 
 "nbformat": 2, 
 "worksheets": [
  {
   "cells": [
    {
     "cell_type": "code", 
     "collapsed": true, 
     "input": [
      "from scipy.sparse import csc_matrix", 
      "dense_matrix = array([", 
      "                      [3,0,1,2,0],", 
      "                      [0,4,0,0,0],", 
      "                      [0,7,5,9,0],", 
      "                      [0,0,0,0,0],", 
      "                      [0,0,0,6,5]],dtype='float64')"
     ], 
     "language": "python", 
     "outputs": [], 
     "prompt_number": 2
    }, 
    {
     "cell_type": "code", 
     "collapsed": false, 
     "input": [
      "sparse_matrix = csc_matrix(dense_matrix)", 
      "sparse_matrix.data"
     ], 
     "language": "python", 
     "outputs": [
      {
       "output_type": "pyout", 
       "prompt_number": 12, 
       "text": [
        "array([ 3.,  4.,  7.,  1.,  5.,  2.,  9.,  6.,  5.])"
       ]
      }
     ], 
     "prompt_number": 12
    }, 
    {
     "cell_type": "markdown", 
     "source": [
      "Above is the non-zero data in the sparse matrix as a list.  It is listed in the `Fortran` style where columns are interated through first, then rows."
     ]
    }, 
    {
     "cell_type": "code", 
     "collapsed": false, 
     "input": [
      "sparse_matrix.indices"
     ], 
     "language": "python", 
     "outputs": [
      {
       "output_type": "pyout", 
       "prompt_number": 11, 
       "text": [
        "array([0, 1, 2, 0, 2, 0, 2, 4, 4])"
       ]
      }
     ], 
     "prompt_number": 11
    }, 
    {
     "cell_type": "markdown", 
     "source": [
      "The indices array is the same length as the data array, and indicate the row index of each element.  That is, given `data[k] = `$a_{ij}$, then `indices[k] = `$i$."
     ]
    }, 
    {
     "cell_type": "code", 
     "collapsed": false, 
     "input": [
      "sparse_matrix.indptr"
     ], 
     "language": "python", 
     "outputs": [
      {
       "output_type": "pyout", 
       "prompt_number": 13, 
       "text": [
        "array([0, 1, 3, 5, 8, 9])"
       ]
      }
     ], 
     "prompt_number": 13
    }, 
    {
     "cell_type": "markdown", 
     "source": [
      "The indptr array of \"pointers\" for where each column starts with the last index always being total number of nonzero elements.  So indptr[0] = 0 and indptr[-1] = len(data).  The indptr pointers ($n<9$) are bolded below", 
      "", 
      "data = [ __3.__,  __4.__,  7.,  __1.__,  5.,  __2.__,  9.,  __6.__,  __5.__]"
     ]
    }, 
    {
     "cell_type": "code", 
     "collapsed": false, 
     "input": [
      "(sparse_matrix ** 2 - sparse_matrix).todense()"
     ], 
     "language": "python", 
     "outputs": [
      {
       "output_type": "pyout", 
       "prompt_number": 17, 
       "text": [
        "matrix([[  6.,   7.,   7.,  13.,   0.],", 
        "        [  0.,  12.,   0.,   0.,   0.],", 
        "        [  0.,  56.,  20.,  36.,   0.],", 
        "        [  0.,   0.,   0.,   0.,   0.],", 
        "        [  0.,   0.,   0.,  24.,  20.]])"
       ]
      }
     ], 
     "prompt_number": 17
    }, 
    {
     "cell_type": "markdown", 
     "source": [
      "Note that we can recover a dense version the sparse matrix with the `todense()` function."
     ]
    }
   ]
  }
 ]
}