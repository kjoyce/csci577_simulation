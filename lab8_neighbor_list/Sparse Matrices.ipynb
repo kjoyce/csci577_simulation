{
 "metadata": {
  "name": "Sparse Matrices"
 }, 
 "nbformat": 2, 
 "worksheets": [
  {
   "cells": [
    {
     "cell_type": "code", 
     "collapsed": true, 
     "input": [
      "from scipy.sparse import csc_matrix", 
      "dense_matrix = array([", 
      "                      [3,0,1,2,0],", 
      "                      [0,4,0,0,0],", 
      "                      [0,7,5,9,0],", 
      "                      [0,0,0,0,0],", 
      "                      [0,0,0,6,5]],dtype='float64')"
     ], 
     "language": "python", 
     "outputs": [], 
     "prompt_number": 1
    }, 
    {
     "cell_type": "code", 
     "collapsed": false, 
     "input": [
      "sparse_matrix = csc_matrix(dense_matrix)", 
      "sparse_matrix.data"
     ], 
     "language": "python", 
     "outputs": [
      {
       "output_type": "pyout", 
       "prompt_number": 2, 
       "text": [
        "array([ 3.,  4.,  7.,  1.,  5.,  2.,  9.,  6.,  5.])"
       ]
      }
     ], 
     "prompt_number": 2
    }, 
    {
     "cell_type": "markdown", 
     "source": [
      "Above is the non-zero data in the sparse matrix as a list.  It is listed in the `Fortran` style where columns are iterated through first, then rows."
     ]
    }, 
    {
     "cell_type": "code", 
     "collapsed": false, 
     "input": [
      "sparse_matrix.indices"
     ], 
     "language": "python", 
     "outputs": [
      {
       "output_type": "pyout", 
       "prompt_number": 3, 
       "text": [
        "array([0, 1, 2, 0, 2, 0, 2, 4, 4])"
       ]
      }
     ], 
     "prompt_number": 3
    }, 
    {
     "cell_type": "markdown", 
     "source": [
      "The indices array is the same length as the data array, and indicate the row index of each element.  That is, if `data[k] = `$a_{ij}$ then `indices[k] = `$i$."
     ]
    }, 
    {
     "cell_type": "code", 
     "collapsed": false, 
     "input": [
      "sparse_matrix.indptr"
     ], 
     "language": "python", 
     "outputs": [
      {
       "output_type": "pyout", 
       "prompt_number": 4, 
       "text": [
        "array([0, 1, 3, 5, 8, 9])"
       ]
      }
     ], 
     "prompt_number": 4
    }, 
    {
     "cell_type": "markdown", 
     "source": [
      "The indptr is an array of \"pointers\" to the first non-zero data in each column.  The last index is the total number of nonzero elements.  So, it always be the case that indptr[0] = 0 and indptr[-1] = len(data).  The indptr pointers ($n<9$) are bolded below", 
      "", 
      "data = [ __3.__,  __4.__,  7.,  __1.__,  5.,  __2.__,  9.,  6.,  __5.__]"
     ]
    }, 
    {
     "cell_type": "code", 
     "collapsed": false, 
     "input": [
      "(sparse_matrix ** 2 - sparse_matrix).todense()"
     ], 
     "language": "python", 
     "outputs": [
      {
       "output_type": "pyout", 
       "prompt_number": 5, 
       "text": [
        "matrix([[  6.,   7.,   7.,  13.,   0.],", 
        "        [  0.,  12.,   0.,   0.,   0.],", 
        "        [  0.,  56.,  20.,  36.,   0.],", 
        "        [  0.,   0.,   0.,   0.,   0.],", 
        "        [  0.,   0.,   0.,  24.,  20.]])"
       ]
      }
     ], 
     "prompt_number": 5
    }, 
    {
     "cell_type": "markdown", 
     "source": [
      "Note that we can recover a dense version the sparse matrix with the `todense()` function."
     ]
    }, 
    {
     "cell_type": "code", 
     "collapsed": true, 
     "input": [
      "sparse_matrix.data = ones(sparse_matrix.data.shape)"
     ], 
     "language": "python", 
     "outputs": [], 
     "prompt_number": 6
    }, 
    {
     "cell_type": "markdown", 
     "source": [
      "Now let's implement an optimized distance matrix that takes advantage of this data type.  The main hurdle will be creating a _new sparse distance_ matrix from an old sparse distance matrix and a new set of positions. This is accomplished by extracting the \"sparsity information\" from the old matrix, and using it to populate a new one.", 
      "", 
      "We will take 100 samples from a uniform distribution"
     ]
    }, 
    {
     "cell_type": "code", 
     "collapsed": false, 
     "input": [
      "x = rand(100)", 
      "dx = tile(x,(100,1))", 
      "dx = dx.T - dx", 
      "dx[abs(dx)>.01] = 0", 
      "sparse_dx = csc_matrix(dx)", 
      "sparse_dx"
     ], 
     "language": "python", 
     "outputs": [
      {
       "output_type": "pyout", 
       "prompt_number": 7, 
       "text": [
        "<100x100 sparse matrix of type '<type 'numpy.float64'>'", 
        "\twith 200 stored elements in Compressed Sparse Column format>"
       ]
      }
     ], 
     "prompt_number": 7
    }, 
    {
     "cell_type": "markdown", 
     "source": [
      "Now, the following function creates a new sparse matrix (not necessary in implementation but done to illustrate the point).  This function essentially tiles a new sparse matrix with the positions from `x_new` in $O(N \\cdot N_{touch})$ (python) time.", 
      "Maybe there is a way to vectorize this, but I couldn't think of it."
     ]
    }, 
    {
     "cell_type": "code", 
     "collapsed": true, 
     "input": [
      "def sparse_tile(x_new,sp_dx):", 
      "    new_sp_dx = sp_dx.copy()    # make a copy, just for illustrative purposes", 
      "    for i,j in zip(sp_dx.indptr[:-1],sp_dx.indptr[1:]):", 
      "        new_sp_dx.data[i:j] = x_new[sp_dx.indices[i:j]]", 
      "    return new_sp_dx"
     ], 
     "language": "python", 
     "outputs": [], 
     "prompt_number": 8
    }, 
    {
     "cell_type": "markdown", 
     "source": [
      "Now, let's test this function to create a new distance matrix that has the same sparsity signature as the the original and compare them."
     ]
    }, 
    {
     "cell_type": "code", 
     "collapsed": false, 
     "input": [
      "new_sparse_dx = sparse_tile(x,sparse_dx)", 
      "new_sparse_dx = new_sparse_dx.transpose() - new_sparse_dx", 
      "", 
      "figure(1)", 
      "subplot(121)", 
      "imshow(sparse_dx.todense())", 
      "subplot(122)", 
      "imshow(new_sparse_dx.todense())"
     ], 
     "language": "python", 
     "outputs": [
      {
       "output_type": "pyout", 
       "prompt_number": 9, 
       "text": [
        "<matplotlib.image.AxesImage at 0xa7e60ac>"
       ]
      }, 
      {
       "output_type": "display_data", 
       "png": "[encoded data removed]"
      }
     ], 
     "prompt_number": 9
    }, 
    {
     "cell_type": "markdown", 
     "source": [
      "Note that the two distance matrices are symmetric and the same. ", 
      "i", 
      "", 
      "Some thoughts:", 
      "We can now just insert a short bit of code where the distance matrix calculation occurred", 
      "in the Force class and not have to change the force logic. ", 
      "", 
      "However, in theory, will be just as optimized as the neighbor list since ", 
      "the sparse tiling is a python loop of length N.  Maybe there is a way to vectorize this... but I don't see it.", 
      "We could also modify the sparse matrix scipy Fortran code to include this function, or write our own Fortran module... "
     ]
    }, 
    {
     "cell_type": "code", 
     "collapsed": true, 
     "input": [], 
     "language": "python", 
     "outputs": []
    }
   ]
  }
 ]
}